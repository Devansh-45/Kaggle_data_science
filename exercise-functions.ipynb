{
 "cells": [
  {
   "cell_type": "markdown",
   "id": "b20fa277",
   "metadata": {
    "papermill": {
     "duration": 0.006946,
     "end_time": "2022-11-26T11:07:02.823099",
     "exception": false,
     "start_time": "2022-11-26T11:07:02.816153",
     "status": "completed"
    },
    "tags": []
   },
   "source": [
    "**This notebook is an exercise in the [Intro to Programming](https://www.kaggle.com/learn/intro-to-programming) course.  You can reference the tutorial at [this link](https://www.kaggle.com/alexisbcook/functions).**\n",
    "\n",
    "---\n"
   ]
  },
  {
   "cell_type": "markdown",
   "id": "6df5f4da",
   "metadata": {
    "papermill": {
     "duration": 0.005545,
     "end_time": "2022-11-26T11:07:02.834551",
     "exception": false,
     "start_time": "2022-11-26T11:07:02.829006",
     "status": "completed"
    },
    "tags": []
   },
   "source": [
    "In the tutorial, you learned about functions. In this exercise, you'll write some of your own!\n",
    "\n",
    "# Set up the notebook\n",
    "\n",
    "Run the next code cell without changes to set up the notebook."
   ]
  },
  {
   "cell_type": "code",
   "execution_count": 1,
   "id": "7af9502d",
   "metadata": {
    "execution": {
     "iopub.execute_input": "2022-11-26T11:07:02.848686Z",
     "iopub.status.busy": "2022-11-26T11:07:02.848068Z",
     "iopub.status.idle": "2022-11-26T11:07:02.908721Z",
     "shell.execute_reply": "2022-11-26T11:07:02.907850Z"
    },
    "papermill": {
     "duration": 0.071633,
     "end_time": "2022-11-26T11:07:02.912076",
     "exception": false,
     "start_time": "2022-11-26T11:07:02.840443",
     "status": "completed"
    },
    "tags": []
   },
   "outputs": [
    {
     "name": "stdout",
     "output_type": "stream",
     "text": [
      "Setup complete.\n"
     ]
    }
   ],
   "source": [
    "# Set up the exercise\n",
    "import math\n",
    "from learntools.core import binder\n",
    "binder.bind(globals())\n",
    "from learntools.intro_to_programming.ex2 import *\n",
    "print('Setup complete.')\n"
   ]
  },
  {
   "cell_type": "markdown",
   "id": "69bd1ed7",
   "metadata": {
    "papermill": {
     "duration": 0.005835,
     "end_time": "2022-11-26T11:07:02.924355",
     "exception": false,
     "start_time": "2022-11-26T11:07:02.918520",
     "status": "completed"
    },
    "tags": []
   },
   "source": [
    "# Question 1\n",
    "\n",
    "In the [House Prices - Advanced Regression Techniques competition](https://www.kaggle.com/c/house-prices-advanced-regression-techniques/overview), you need to use information like the number of bedrooms and bathrooms to predict the price of a house.  Inspired by this competition, you'll write your own function to do this.\n",
    "\n",
    "In the next code cell, create a function `get_expected_cost()` that has two arguments:\n",
    "- `beds` - number of bedrooms \n",
    "- `baths` - number of bathrooms\n",
    "\n",
    "It should return the expected cost of a house with that number of bedrooms and bathrooms.  Assume that:\n",
    "- the expected cost for a house with 0 bedrooms and 0 bathrooms is `80000`.  \n",
    "- each bedroom adds `30000` to the expected cost\n",
    "- each bathroom adds `10000` to the expected cost.\n",
    "\n",
    "For instance, \n",
    "- a house with 1 bedroom and 1 bathroom has an expected cost of `120000`, and \n",
    "- a house with 2 bedrooms and 1 bathroom has an expected cost of `150000`."
   ]
  },
  {
   "cell_type": "code",
   "execution_count": 2,
   "id": "a8221382",
   "metadata": {
    "execution": {
     "iopub.execute_input": "2022-11-26T11:07:02.938516Z",
     "iopub.status.busy": "2022-11-26T11:07:02.937393Z",
     "iopub.status.idle": "2022-11-26T11:07:02.948274Z",
     "shell.execute_reply": "2022-11-26T11:07:02.947358Z"
    },
    "papermill": {
     "duration": 0.020052,
     "end_time": "2022-11-26T11:07:02.950280",
     "exception": false,
     "start_time": "2022-11-26T11:07:02.930228",
     "status": "completed"
    },
    "tags": []
   },
   "outputs": [
    {
     "data": {
      "application/javascript": [
       "parent.postMessage({\"jupyterEvent\": \"custom.exercise_interaction\", \"data\": {\"outcomeType\": 1, \"valueTowardsCompletion\": 0.2, \"interactionType\": 1, \"questionType\": 2, \"questionId\": \"1_GetExpectedCost\", \"learnToolsVersion\": \"0.3.4\", \"failureMessage\": \"\", \"exceptionClass\": \"\", \"trace\": \"\"}}, \"*\")"
      ],
      "text/plain": [
       "<IPython.core.display.Javascript object>"
      ]
     },
     "metadata": {},
     "output_type": "display_data"
    },
    {
     "data": {
      "text/markdown": [
       "<span style=\"color:#33cc33\">Correct</span>"
      ],
      "text/plain": [
       "Correct"
      ]
     },
     "metadata": {},
     "output_type": "display_data"
    }
   ],
   "source": [
    "# TODO: Complete the function\n",
    "def get_expected_cost(beds, baths):\n",
    "    int_cost = 80000\n",
    "    bed_cost = 30000\n",
    "    bath_cost = 10000\n",
    "    value = int_cost + beds*bed_cost + bath_cost*baths\n",
    "    return value\n",
    "\n",
    "# Check your answer \n",
    "q1.check()"
   ]
  },
  {
   "cell_type": "code",
   "execution_count": 3,
   "id": "f1745986",
   "metadata": {
    "execution": {
     "iopub.execute_input": "2022-11-26T11:07:02.964291Z",
     "iopub.status.busy": "2022-11-26T11:07:02.963584Z",
     "iopub.status.idle": "2022-11-26T11:07:02.967419Z",
     "shell.execute_reply": "2022-11-26T11:07:02.966626Z"
    },
    "papermill": {
     "duration": 0.012986,
     "end_time": "2022-11-26T11:07:02.969303",
     "exception": false,
     "start_time": "2022-11-26T11:07:02.956317",
     "status": "completed"
    },
    "tags": []
   },
   "outputs": [],
   "source": [
    "# Uncomment to see a hint\n",
    "#q1.hint()\n",
    "\n",
    "# Uncomment to view the solution\n",
    "#q1.solution()"
   ]
  },
  {
   "cell_type": "markdown",
   "id": "9e95a90f",
   "metadata": {
    "papermill": {
     "duration": 0.005664,
     "end_time": "2022-11-26T11:07:02.980908",
     "exception": false,
     "start_time": "2022-11-26T11:07:02.975244",
     "status": "completed"
    },
    "tags": []
   },
   "source": [
    "# Question 2\n",
    "\n",
    "You are thinking about buying a home and want to get an idea of how much you will spend, based on the number of bedrooms and bathrooms.  You are trying to decide between four different options:\n",
    "- Option 1: house with two bedrooms and three bathrooms\n",
    "- Option 2: house with three bedrooms and two bathrooms\n",
    "- Option 3: house with three bedrooms and three bathrooms\n",
    "- Option 4: house with three bedrooms and four bathrooms\n",
    "\n",
    "Use the `get_expected_cost()` function you defined in question 1 to set `option_1`, `option_2`, `option_3`, and `option_4` to the expected cost of each option."
   ]
  },
  {
   "cell_type": "code",
   "execution_count": 4,
   "id": "5829ae2b",
   "metadata": {
    "execution": {
     "iopub.execute_input": "2022-11-26T11:07:02.997817Z",
     "iopub.status.busy": "2022-11-26T11:07:02.997136Z",
     "iopub.status.idle": "2022-11-26T11:07:03.008944Z",
     "shell.execute_reply": "2022-11-26T11:07:03.007633Z"
    },
    "papermill": {
     "duration": 0.024309,
     "end_time": "2022-11-26T11:07:03.011407",
     "exception": false,
     "start_time": "2022-11-26T11:07:02.987098",
     "status": "completed"
    },
    "tags": []
   },
   "outputs": [
    {
     "name": "stdout",
     "output_type": "stream",
     "text": [
      "170000\n",
      "190000\n",
      "200000\n",
      "210000\n"
     ]
    },
    {
     "data": {
      "application/javascript": [
       "parent.postMessage({\"jupyterEvent\": \"custom.exercise_interaction\", \"data\": {\"outcomeType\": 1, \"valueTowardsCompletion\": 0.2, \"interactionType\": 1, \"questionType\": 1, \"questionId\": \"2_RunGetExpectedCost\", \"learnToolsVersion\": \"0.3.4\", \"failureMessage\": \"\", \"exceptionClass\": \"\", \"trace\": \"\"}}, \"*\")"
      ],
      "text/plain": [
       "<IPython.core.display.Javascript object>"
      ]
     },
     "metadata": {},
     "output_type": "display_data"
    },
    {
     "data": {
      "text/markdown": [
       "<span style=\"color:#33cc33\">Correct</span>"
      ],
      "text/plain": [
       "Correct"
      ]
     },
     "metadata": {},
     "output_type": "display_data"
    }
   ],
   "source": [
    "# TODO: Use the get_expected_cost function to fill in each value\n",
    "option_one = get_expected_cost(2,3)\n",
    "option_two = get_expected_cost(3,2)\n",
    "option_three = get_expected_cost(3,3)\n",
    "option_four = get_expected_cost(3,4)\n",
    "\n",
    "def get_expected_cost(beds, baths):\n",
    "    int_cost = 80000\n",
    "    bed_cost = 30000\n",
    "    bath_cost = 10000\n",
    "    value = int_cost + beds*bed_cost + bath_cost*baths\n",
    "    return value\n",
    "\n",
    "print(option_one)\n",
    "print(option_two)\n",
    "print(option_three)\n",
    "print(option_four)\n",
    "\n",
    "# Check your answer\n",
    "q2.check()"
   ]
  },
  {
   "cell_type": "code",
   "execution_count": 5,
   "id": "1b04c280",
   "metadata": {
    "execution": {
     "iopub.execute_input": "2022-11-26T11:07:03.026098Z",
     "iopub.status.busy": "2022-11-26T11:07:03.025722Z",
     "iopub.status.idle": "2022-11-26T11:07:03.029887Z",
     "shell.execute_reply": "2022-11-26T11:07:03.028758Z"
    },
    "papermill": {
     "duration": 0.01456,
     "end_time": "2022-11-26T11:07:03.032307",
     "exception": false,
     "start_time": "2022-11-26T11:07:03.017747",
     "status": "completed"
    },
    "tags": []
   },
   "outputs": [],
   "source": [
    "# Uncomment to see a hint\n",
    "#q2.hint()\n",
    "\n",
    "# Uncomment to view the solution\n",
    "#q2.solution()"
   ]
  },
  {
   "cell_type": "markdown",
   "id": "f4264e46",
   "metadata": {
    "papermill": {
     "duration": 0.00604,
     "end_time": "2022-11-26T11:07:03.044770",
     "exception": false,
     "start_time": "2022-11-26T11:07:03.038730",
     "status": "completed"
    },
    "tags": []
   },
   "source": [
    "# Question 3\n",
    "\n",
    "You're a home decorator, and you'd like to use Python to streamline some of your work.  Specifically, you're creating a tool that you intend to use to calculate the cost of painting a room.\n",
    "\n",
    "As a first step, define a function `get_cost()` that takes as input:\n",
    "- `sqft_walls` = total square feet of walls to be painted\n",
    "- `sqft_ceiling` = square feet of ceiling to be painted\n",
    "- `sqft_per_gallon` = number of square feet that you can cover with one gallon of paint\n",
    "- `cost_per_gallon` = cost (in dollars) of one gallon of paint\n",
    "\n",
    "It should return the cost (in dollars) of putting one coat of paint on all walls and the ceiling.  Assume you can buy the exact amount of paint that you need, so you can buy partial gallons (e.g., if you need 7.523 gallons, you can buy that exact amount, instead of needing to buy 8 gallons and waste some paint).  Do not round your answer."
   ]
  },
  {
   "cell_type": "code",
   "execution_count": 6,
   "id": "c7188057",
   "metadata": {
    "execution": {
     "iopub.execute_input": "2022-11-26T11:07:03.059166Z",
     "iopub.status.busy": "2022-11-26T11:07:03.058784Z",
     "iopub.status.idle": "2022-11-26T11:07:03.067887Z",
     "shell.execute_reply": "2022-11-26T11:07:03.066827Z"
    },
    "papermill": {
     "duration": 0.018892,
     "end_time": "2022-11-26T11:07:03.069888",
     "exception": false,
     "start_time": "2022-11-26T11:07:03.050996",
     "status": "completed"
    },
    "tags": []
   },
   "outputs": [
    {
     "data": {
      "application/javascript": [
       "parent.postMessage({\"jupyterEvent\": \"custom.exercise_interaction\", \"data\": {\"outcomeType\": 1, \"valueTowardsCompletion\": 0.2, \"interactionType\": 1, \"questionType\": 2, \"questionId\": \"3_GetCostPaint\", \"learnToolsVersion\": \"0.3.4\", \"failureMessage\": \"\", \"exceptionClass\": \"\", \"trace\": \"\"}}, \"*\")"
      ],
      "text/plain": [
       "<IPython.core.display.Javascript object>"
      ]
     },
     "metadata": {},
     "output_type": "display_data"
    },
    {
     "data": {
      "text/markdown": [
       "<span style=\"color:#33cc33\">Correct</span>"
      ],
      "text/plain": [
       "Correct"
      ]
     },
     "metadata": {},
     "output_type": "display_data"
    }
   ],
   "source": [
    "# TODO: Finish defining the function\n",
    "def get_cost(sqft_walls, sqft_ceiling, sqft_per_gallon, cost_per_gallon):\n",
    "    cost = ((sqft_walls+sqft_ceiling)/sqft_per_gallon) *cost_per_gallon\n",
    "    return cost\n",
    "\n",
    "# Check your answer\n",
    "q3.check()"
   ]
  },
  {
   "cell_type": "code",
   "execution_count": 7,
   "id": "aa6a7e80",
   "metadata": {
    "execution": {
     "iopub.execute_input": "2022-11-26T11:07:03.084695Z",
     "iopub.status.busy": "2022-11-26T11:07:03.083933Z",
     "iopub.status.idle": "2022-11-26T11:07:03.088554Z",
     "shell.execute_reply": "2022-11-26T11:07:03.087451Z"
    },
    "papermill": {
     "duration": 0.014411,
     "end_time": "2022-11-26T11:07:03.090724",
     "exception": false,
     "start_time": "2022-11-26T11:07:03.076313",
     "status": "completed"
    },
    "tags": []
   },
   "outputs": [],
   "source": [
    "# Uncomment to see a hint\n",
    "#q3.hint()\n",
    "\n",
    "# Uncomment to view the solution\n",
    "#q3.solution()"
   ]
  },
  {
   "cell_type": "markdown",
   "id": "5dbb5b81",
   "metadata": {
    "papermill": {
     "duration": 0.006511,
     "end_time": "2022-11-26T11:07:03.103834",
     "exception": false,
     "start_time": "2022-11-26T11:07:03.097323",
     "status": "completed"
    },
    "tags": []
   },
   "source": [
    "# Question 4\n",
    "\n",
    "Use the `get_cost()` function you defined in Question 3 to calculate the cost of applying one coat of paint to a room with:\n",
    "- 432 square feet of walls, and\n",
    "- 144 square feet of ceiling.\n",
    "\n",
    "Assume that one gallon of paint covers 400 square feet and costs $15.  As in Question 3, assume you can buy partial gallons of paint.  Do not round your answer."
   ]
  },
  {
   "cell_type": "code",
   "execution_count": 8,
   "id": "fa7ef47e",
   "metadata": {
    "execution": {
     "iopub.execute_input": "2022-11-26T11:07:03.119064Z",
     "iopub.status.busy": "2022-11-26T11:07:03.118355Z",
     "iopub.status.idle": "2022-11-26T11:07:03.126309Z",
     "shell.execute_reply": "2022-11-26T11:07:03.125134Z"
    },
    "papermill": {
     "duration": 0.018301,
     "end_time": "2022-11-26T11:07:03.128736",
     "exception": false,
     "start_time": "2022-11-26T11:07:03.110435",
     "status": "completed"
    },
    "tags": []
   },
   "outputs": [
    {
     "data": {
      "application/javascript": [
       "parent.postMessage({\"jupyterEvent\": \"custom.exercise_interaction\", \"data\": {\"outcomeType\": 1, \"valueTowardsCompletion\": 0.2, \"interactionType\": 1, \"questionType\": 1, \"questionId\": \"4_GetCostPaintExample\", \"learnToolsVersion\": \"0.3.4\", \"failureMessage\": \"\", \"exceptionClass\": \"\", \"trace\": \"\"}}, \"*\")"
      ],
      "text/plain": [
       "<IPython.core.display.Javascript object>"
      ]
     },
     "metadata": {},
     "output_type": "display_data"
    },
    {
     "data": {
      "text/markdown": [
       "<span style=\"color:#33cc33\">Correct</span>"
      ],
      "text/plain": [
       "Correct"
      ]
     },
     "metadata": {},
     "output_type": "display_data"
    }
   ],
   "source": [
    "# TODO: Set the project_cost variable to the cost of the project\n",
    "project_cost = get_cost(432,144,400,15)\n",
    "\n",
    "# Check your answer\n",
    "q4.check()"
   ]
  },
  {
   "cell_type": "code",
   "execution_count": 9,
   "id": "c234f86a",
   "metadata": {
    "execution": {
     "iopub.execute_input": "2022-11-26T11:07:03.144154Z",
     "iopub.status.busy": "2022-11-26T11:07:03.143795Z",
     "iopub.status.idle": "2022-11-26T11:07:03.147933Z",
     "shell.execute_reply": "2022-11-26T11:07:03.146698Z"
    },
    "papermill": {
     "duration": 0.014686,
     "end_time": "2022-11-26T11:07:03.150237",
     "exception": false,
     "start_time": "2022-11-26T11:07:03.135551",
     "status": "completed"
    },
    "tags": []
   },
   "outputs": [],
   "source": [
    "# Uncomment to see a hint\n",
    "#q4.hint()\n",
    "\n",
    "# Uncomment to view the solution\n",
    "#q4.solution()"
   ]
  },
  {
   "cell_type": "markdown",
   "id": "811e5613",
   "metadata": {
    "papermill": {
     "duration": 0.006527,
     "end_time": "2022-11-26T11:07:03.163657",
     "exception": false,
     "start_time": "2022-11-26T11:07:03.157130",
     "status": "completed"
    },
    "tags": []
   },
   "source": [
    "# 🌶️ Question 5\n",
    "\n",
    "Now say you can no longer buy fractions of a gallon.  (For instance, if you need 4.3 gallons to do a project, then you have to buy 5 gallons of paint.)\n",
    "\n",
    "With this new scenario, you will create a new function `get_actual_cost` that uses the same inputs and calculates the cost of your project.\n",
    "\n",
    "One function that you'll need to use to do this is `math.ceil()`.  We demonstrate usage of this function in the code cell below.  It takes as a number as input and rounds the number up to the nearest integer.  \n",
    "\n",
    "Run the next code cell to test this function for yourself.  Feel free to change the value of `test_value` and make sure `math.ceil()` returns the number you expect."
   ]
  },
  {
   "cell_type": "code",
   "execution_count": 10,
   "id": "fe0cf40e",
   "metadata": {
    "execution": {
     "iopub.execute_input": "2022-11-26T11:07:03.178866Z",
     "iopub.status.busy": "2022-11-26T11:07:03.178493Z",
     "iopub.status.idle": "2022-11-26T11:07:03.183618Z",
     "shell.execute_reply": "2022-11-26T11:07:03.182516Z"
    },
    "papermill": {
     "duration": 0.016382,
     "end_time": "2022-11-26T11:07:03.186706",
     "exception": false,
     "start_time": "2022-11-26T11:07:03.170324",
     "status": "completed"
    },
    "tags": []
   },
   "outputs": [
    {
     "name": "stdout",
     "output_type": "stream",
     "text": [
      "3\n"
     ]
    }
   ],
   "source": [
    "test_value = 2.17\n",
    "\n",
    "rounded_value = math.ceil(test_value)\n",
    "print(rounded_value)"
   ]
  },
  {
   "cell_type": "markdown",
   "id": "5659f1ed",
   "metadata": {
    "papermill": {
     "duration": 0.006526,
     "end_time": "2022-11-26T11:07:03.200992",
     "exception": false,
     "start_time": "2022-11-26T11:07:03.194466",
     "status": "completed"
    },
    "tags": []
   },
   "source": [
    "Use the next code cell to define the function `get_actual_cost()`.  You'll need to use the `math.ceil()` function to do this.\n",
    "\n",
    "When answering this question, note that it's completely valid to define a function that makes use of another function.  For instance, we can define a function `round_up_and_divide_by_three` that makes use of the `math.ceil` function:\n",
    "```\n",
    "def round_up_and_divide_by_three(num):\n",
    "    new_value = math.ceil(num)\n",
    "    final_value = new_value / 3\n",
    "    return final_value\n",
    "```"
   ]
  },
  {
   "cell_type": "code",
   "execution_count": 11,
   "id": "d0d32f44",
   "metadata": {
    "execution": {
     "iopub.execute_input": "2022-11-26T11:07:03.217143Z",
     "iopub.status.busy": "2022-11-26T11:07:03.215879Z",
     "iopub.status.idle": "2022-11-26T11:07:03.224888Z",
     "shell.execute_reply": "2022-11-26T11:07:03.224040Z"
    },
    "papermill": {
     "duration": 0.019217,
     "end_time": "2022-11-26T11:07:03.226970",
     "exception": false,
     "start_time": "2022-11-26T11:07:03.207753",
     "status": "completed"
    },
    "tags": []
   },
   "outputs": [
    {
     "data": {
      "application/javascript": [
       "parent.postMessage({\"jupyterEvent\": \"custom.exercise_interaction\", \"data\": {\"outcomeType\": 1, \"valueTowardsCompletion\": 0.2, \"interactionType\": 1, \"questionType\": 2, \"questionId\": \"5_NoMoreFractions\", \"learnToolsVersion\": \"0.3.4\", \"failureMessage\": \"\", \"exceptionClass\": \"\", \"trace\": \"\"}}, \"*\")"
      ],
      "text/plain": [
       "<IPython.core.display.Javascript object>"
      ]
     },
     "metadata": {},
     "output_type": "display_data"
    },
    {
     "data": {
      "text/markdown": [
       "<span style=\"color:#33cc33\">Correct</span>"
      ],
      "text/plain": [
       "Correct"
      ]
     },
     "metadata": {},
     "output_type": "display_data"
    }
   ],
   "source": [
    "def get_actual_cost(sqft_walls, sqft_ceiling, sqft_per_gallon, cost_per_gallon):\n",
    "    cost = math.ceil((sqft_walls+sqft_ceiling)/sqft_per_gallon) * cost_per_gallon\n",
    "    return cost\n",
    "\n",
    "# Check your answer\n",
    "q5.check()"
   ]
  },
  {
   "cell_type": "code",
   "execution_count": 12,
   "id": "79b025cc",
   "metadata": {
    "execution": {
     "iopub.execute_input": "2022-11-26T11:07:03.243069Z",
     "iopub.status.busy": "2022-11-26T11:07:03.242302Z",
     "iopub.status.idle": "2022-11-26T11:07:03.246811Z",
     "shell.execute_reply": "2022-11-26T11:07:03.245676Z"
    },
    "papermill": {
     "duration": 0.01474,
     "end_time": "2022-11-26T11:07:03.248819",
     "exception": false,
     "start_time": "2022-11-26T11:07:03.234079",
     "status": "completed"
    },
    "tags": []
   },
   "outputs": [],
   "source": [
    "# Uncomment to see a hint\n",
    "#q5.hint()\n",
    "\n",
    "# Uncomment to view the solution\n",
    "#q5.solution()"
   ]
  },
  {
   "cell_type": "markdown",
   "id": "42c0b219",
   "metadata": {
    "papermill": {
     "duration": 0.006984,
     "end_time": "2022-11-26T11:07:03.262979",
     "exception": false,
     "start_time": "2022-11-26T11:07:03.255995",
     "status": "completed"
    },
    "tags": []
   },
   "source": [
    "Once your function is verified as correct, run the next code cell to calculate the updated cost of your project."
   ]
  },
  {
   "cell_type": "code",
   "execution_count": 13,
   "id": "73b421a3",
   "metadata": {
    "execution": {
     "iopub.execute_input": "2022-11-26T11:07:03.281919Z",
     "iopub.status.busy": "2022-11-26T11:07:03.281133Z",
     "iopub.status.idle": "2022-11-26T11:07:03.287830Z",
     "shell.execute_reply": "2022-11-26T11:07:03.286944Z"
    },
    "papermill": {
     "duration": 0.019708,
     "end_time": "2022-11-26T11:07:03.289914",
     "exception": false,
     "start_time": "2022-11-26T11:07:03.270206",
     "status": "completed"
    },
    "tags": []
   },
   "outputs": [
    {
     "data": {
      "text/plain": [
       "30"
      ]
     },
     "execution_count": 13,
     "metadata": {},
     "output_type": "execute_result"
    }
   ],
   "source": [
    "get_actual_cost(432, 144, 400, 15) "
   ]
  },
  {
   "cell_type": "markdown",
   "id": "fb57b212",
   "metadata": {
    "papermill": {
     "duration": 0.007113,
     "end_time": "2022-11-26T11:07:03.304422",
     "exception": false,
     "start_time": "2022-11-26T11:07:03.297309",
     "status": "completed"
    },
    "tags": []
   },
   "source": [
    "Say you're working with a slightly larger room.  Run the next code cell to calculate the cost of the project."
   ]
  },
  {
   "cell_type": "code",
   "execution_count": 14,
   "id": "52fe67ec",
   "metadata": {
    "execution": {
     "iopub.execute_input": "2022-11-26T11:07:03.320505Z",
     "iopub.status.busy": "2022-11-26T11:07:03.320106Z",
     "iopub.status.idle": "2022-11-26T11:07:03.326334Z",
     "shell.execute_reply": "2022-11-26T11:07:03.325483Z"
    },
    "papermill": {
     "duration": 0.016834,
     "end_time": "2022-11-26T11:07:03.328411",
     "exception": false,
     "start_time": "2022-11-26T11:07:03.311577",
     "status": "completed"
    },
    "tags": []
   },
   "outputs": [
    {
     "data": {
      "text/plain": [
       "45"
      ]
     },
     "execution_count": 14,
     "metadata": {},
     "output_type": "execute_result"
    }
   ],
   "source": [
    "get_actual_cost(594, 288, 400, 15) "
   ]
  },
  {
   "cell_type": "markdown",
   "id": "ded942a3",
   "metadata": {
    "papermill": {
     "duration": 0.007149,
     "end_time": "2022-11-26T11:07:03.343383",
     "exception": false,
     "start_time": "2022-11-26T11:07:03.336234",
     "status": "completed"
    },
    "tags": []
   },
   "source": [
    "# Keep going\n",
    "\n",
    "Continue to learn about **[data types](https://www.kaggle.com/alexisbcook/data-types)**."
   ]
  },
  {
   "cell_type": "markdown",
   "id": "e73a030d",
   "metadata": {
    "papermill": {
     "duration": 0.007819,
     "end_time": "2022-11-26T11:07:03.361590",
     "exception": false,
     "start_time": "2022-11-26T11:07:03.353771",
     "status": "completed"
    },
    "tags": []
   },
   "source": [
    "---\n",
    "\n",
    "\n",
    "\n",
    "\n",
    "*Have questions or comments? Visit the [course discussion forum](https://www.kaggle.com/learn/intro-to-programming/discussion) to chat with other learners.*"
   ]
  }
 ],
 "metadata": {
  "kernelspec": {
   "display_name": "Python 3",
   "language": "python",
   "name": "python3"
  },
  "language_info": {
   "codemirror_mode": {
    "name": "ipython",
    "version": 3
   },
   "file_extension": ".py",
   "mimetype": "text/x-python",
   "name": "python",
   "nbconvert_exporter": "python",
   "pygments_lexer": "ipython3",
   "version": "3.7.12"
  },
  "papermill": {
   "default_parameters": {},
   "duration": 9.515358,
   "end_time": "2022-11-26T11:07:03.990318",
   "environment_variables": {},
   "exception": null,
   "input_path": "__notebook__.ipynb",
   "output_path": "__notebook__.ipynb",
   "parameters": {},
   "start_time": "2022-11-26T11:06:54.474960",
   "version": "2.3.4"
  }
 },
 "nbformat": 4,
 "nbformat_minor": 5
}
