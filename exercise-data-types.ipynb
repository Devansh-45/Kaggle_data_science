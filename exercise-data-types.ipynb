{
 "cells": [
  {
   "cell_type": "markdown",
   "id": "12542ea5",
   "metadata": {
    "papermill": {
     "duration": 0.006879,
     "end_time": "2022-11-26T13:17:30.171347",
     "exception": false,
     "start_time": "2022-11-26T13:17:30.164468",
     "status": "completed"
    },
    "tags": []
   },
   "source": [
    "**This notebook is an exercise in the [Intro to Programming](https://www.kaggle.com/learn/intro-to-programming) course.  You can reference the tutorial at [this link](https://www.kaggle.com/alexisbcook/data-types).**\n",
    "\n",
    "---\n"
   ]
  },
  {
   "cell_type": "markdown",
   "id": "a6552f31",
   "metadata": {
    "papermill": {
     "duration": 0.006418,
     "end_time": "2022-11-26T13:17:30.183713",
     "exception": false,
     "start_time": "2022-11-26T13:17:30.177295",
     "status": "completed"
    },
    "tags": []
   },
   "source": [
    "In the tutorial, you learned about four different data types: floats, integers, strings, and booleans.  In this exercise, you'll experiment with them.\n",
    "\n",
    "# Set up the notebook\n",
    "\n",
    "Run the next code cell without changes to set up the notebook."
   ]
  },
  {
   "cell_type": "code",
   "execution_count": 1,
   "id": "14cd7f1e",
   "metadata": {
    "execution": {
     "iopub.execute_input": "2022-11-26T13:17:30.197372Z",
     "iopub.status.busy": "2022-11-26T13:17:30.196818Z",
     "iopub.status.idle": "2022-11-26T13:17:30.255207Z",
     "shell.execute_reply": "2022-11-26T13:17:30.253248Z"
    },
    "papermill": {
     "duration": 0.068906,
     "end_time": "2022-11-26T13:17:30.258458",
     "exception": false,
     "start_time": "2022-11-26T13:17:30.189552",
     "status": "completed"
    },
    "tags": []
   },
   "outputs": [
    {
     "name": "stdout",
     "output_type": "stream",
     "text": [
      "Setup complete.\n"
     ]
    }
   ],
   "source": [
    "# Set up the exercise\n",
    "from learntools.core import binder\n",
    "binder.bind(globals())\n",
    "from learntools.intro_to_programming.ex3 import *\n",
    "print('Setup complete.')\n"
   ]
  },
  {
   "cell_type": "markdown",
   "id": "1752db0b",
   "metadata": {
    "papermill": {
     "duration": 0.005706,
     "end_time": "2022-11-26T13:17:30.271285",
     "exception": false,
     "start_time": "2022-11-26T13:17:30.265579",
     "status": "completed"
    },
    "tags": []
   },
   "source": [
    "# Question 1\n",
    "\n",
    "You have seen how to convert a float to an integer with the `int` function.  Try this out yourself by running the code cell below."
   ]
  },
  {
   "cell_type": "code",
   "execution_count": 2,
   "id": "ef5f47dd",
   "metadata": {
    "execution": {
     "iopub.execute_input": "2022-11-26T13:17:30.285393Z",
     "iopub.status.busy": "2022-11-26T13:17:30.285002Z",
     "iopub.status.idle": "2022-11-26T13:17:30.291287Z",
     "shell.execute_reply": "2022-11-26T13:17:30.289934Z"
    },
    "papermill": {
     "duration": 0.017554,
     "end_time": "2022-11-26T13:17:30.294700",
     "exception": false,
     "start_time": "2022-11-26T13:17:30.277146",
     "status": "completed"
    },
    "tags": []
   },
   "outputs": [
    {
     "name": "stdout",
     "output_type": "stream",
     "text": [
      "1.0\n",
      "<class 'float'>\n",
      "1\n",
      "<class 'int'>\n"
     ]
    }
   ],
   "source": [
    "# Define a float\n",
    "y = 1.\n",
    "print(y)\n",
    "print(type(y))\n",
    "\n",
    "# Convert float to integer with the int function\n",
    "z = int(y)\n",
    "print(z)\n",
    "print(type(z))"
   ]
  },
  {
   "cell_type": "markdown",
   "id": "02793483",
   "metadata": {
    "papermill": {
     "duration": 0.005599,
     "end_time": "2022-11-26T13:17:30.306753",
     "exception": false,
     "start_time": "2022-11-26T13:17:30.301154",
     "status": "completed"
    },
    "tags": []
   },
   "source": [
    "In this case, the float you are using has no numbers after the decimal.  \n",
    "- But what happens when you try to convert a float with a fractional part to an integer?  \n",
    "- How does the outcome of the `int` function change for positive and negative numbers?\n",
    "\n",
    "Use the next code cell to investigate and answer these questions.  Feel free to add or remove any lines of code -- it is your workspace!"
   ]
  },
  {
   "cell_type": "code",
   "execution_count": 3,
   "id": "eb5ac2c6",
   "metadata": {
    "execution": {
     "iopub.execute_input": "2022-11-26T13:17:30.320006Z",
     "iopub.status.busy": "2022-11-26T13:17:30.319619Z",
     "iopub.status.idle": "2022-11-26T13:17:30.324502Z",
     "shell.execute_reply": "2022-11-26T13:17:30.323822Z"
    },
    "papermill": {
     "duration": 0.01426,
     "end_time": "2022-11-26T13:17:30.326765",
     "exception": false,
     "start_time": "2022-11-26T13:17:30.312505",
     "status": "completed"
    },
    "tags": []
   },
   "outputs": [
    {
     "name": "stdout",
     "output_type": "stream",
     "text": [
      "1\n",
      "1\n",
      "-3\n",
      "-2\n"
     ]
    }
   ],
   "source": [
    "# Uncomment and run this code to get started!\n",
    "print(int(1.2321))\n",
    "print(int(1.747))\n",
    "print(int(-3.94535))\n",
    "print(int(-2.19774))"
   ]
  },
  {
   "cell_type": "markdown",
   "id": "17d38311",
   "metadata": {
    "papermill": {
     "duration": 0.005645,
     "end_time": "2022-11-26T13:17:30.339836",
     "exception": false,
     "start_time": "2022-11-26T13:17:30.334191",
     "status": "completed"
    },
    "tags": []
   },
   "source": [
    "Once you have an answer, run the code cell below to see the solution.  Viewing the solution will give you credit for answering the problem."
   ]
  },
  {
   "cell_type": "code",
   "execution_count": 4,
   "id": "3969b9c1",
   "metadata": {
    "execution": {
     "iopub.execute_input": "2022-11-26T13:17:30.353701Z",
     "iopub.status.busy": "2022-11-26T13:17:30.353339Z",
     "iopub.status.idle": "2022-11-26T13:17:30.362398Z",
     "shell.execute_reply": "2022-11-26T13:17:30.361261Z"
    },
    "papermill": {
     "duration": 0.019222,
     "end_time": "2022-11-26T13:17:30.365113",
     "exception": false,
     "start_time": "2022-11-26T13:17:30.345891",
     "status": "completed"
    },
    "tags": []
   },
   "outputs": [
    {
     "data": {
      "application/javascript": [
       "parent.postMessage({\"jupyterEvent\": \"custom.exercise_interaction\", \"data\": {\"outcomeType\": 1, \"valueTowardsCompletion\": 0.2, \"interactionType\": 1, \"questionType\": 4, \"questionId\": \"1_FloatToInt\", \"learnToolsVersion\": \"0.3.4\", \"failureMessage\": \"\", \"exceptionClass\": \"\", \"trace\": \"\"}}, \"*\")"
      ],
      "text/plain": [
       "<IPython.core.display.Javascript object>"
      ]
     },
     "metadata": {},
     "output_type": "display_data"
    },
    {
     "data": {
      "text/markdown": [
       "<span style=\"color:#33cc33\">Correct:</span> \n",
       "\n",
       "Negative floats are always rounded UP to the closest integer (for instance, both -1.1 and -1.9 are rounded up to -1). Positive floats are always rounded DOWN to the closest integer (for instance, 2.1 and 2.9 are rounded down to 2)."
      ],
      "text/plain": [
       "Correct: \n",
       "\n",
       "Negative floats are always rounded UP to the closest integer (for instance, both -1.1 and -1.9 are rounded up to -1). Positive floats are always rounded DOWN to the closest integer (for instance, 2.1 and 2.9 are rounded down to 2)."
      ]
     },
     "metadata": {},
     "output_type": "display_data"
    }
   ],
   "source": [
    "# Check your answer (Run this code cell to receive credit!)\n",
    "q1.check()"
   ]
  },
  {
   "cell_type": "markdown",
   "id": "b640007f",
   "metadata": {
    "papermill": {
     "duration": 0.006779,
     "end_time": "2022-11-26T13:17:30.378393",
     "exception": false,
     "start_time": "2022-11-26T13:17:30.371614",
     "status": "completed"
    },
    "tags": []
   },
   "source": [
    "# Question 2\n",
    "\n",
    "In the tutorial, you learned about booleans (which can take a value of `True` or `False`), in addition to integers, floats, and strings.  For this question, your goal is to determine what happens when you multiply a boolean by any of these data types.  Specifically, \n",
    "- What happens when you multiply an integer or float by `True`?  What happens when you multiply them by `False`?  How does the answer change if the numbers are positive or negative?\n",
    "- What happens when you multiply a string by `True`?  By `False`?\n",
    "\n",
    "Use the next code cell for your investigation. "
   ]
  },
  {
   "cell_type": "code",
   "execution_count": 5,
   "id": "e6a44df8",
   "metadata": {
    "execution": {
     "iopub.execute_input": "2022-11-26T13:17:30.393935Z",
     "iopub.status.busy": "2022-11-26T13:17:30.393556Z",
     "iopub.status.idle": "2022-11-26T13:17:30.399014Z",
     "shell.execute_reply": "2022-11-26T13:17:30.398151Z"
    },
    "papermill": {
     "duration": 0.015536,
     "end_time": "2022-11-26T13:17:30.400791",
     "exception": false,
     "start_time": "2022-11-26T13:17:30.385255",
     "status": "completed"
    },
    "tags": []
   },
   "outputs": [
    {
     "name": "stdout",
     "output_type": "stream",
     "text": [
      "3\n",
      "-3.1\n",
      "<class 'str'>\n",
      "0\n"
     ]
    }
   ],
   "source": [
    "# Uncomment and run this code to get started!\n",
    "print(3 * True)\n",
    "print(-3.1 * True)\n",
    "print(type(\"abc\" * False))\n",
    "print(len(\"abc\" * False))"
   ]
  },
  {
   "cell_type": "markdown",
   "id": "40f208c7",
   "metadata": {
    "papermill": {
     "duration": 0.006609,
     "end_time": "2022-11-26T13:17:30.413612",
     "exception": false,
     "start_time": "2022-11-26T13:17:30.407003",
     "status": "completed"
    },
    "tags": []
   },
   "source": [
    "Once you have an answer, run the code cell below to see the solution.  Viewing the solution will give you credit for answering the problem."
   ]
  },
  {
   "cell_type": "code",
   "execution_count": 6,
   "id": "3b4a6e21",
   "metadata": {
    "execution": {
     "iopub.execute_input": "2022-11-26T13:17:30.428577Z",
     "iopub.status.busy": "2022-11-26T13:17:30.428152Z",
     "iopub.status.idle": "2022-11-26T13:17:30.436935Z",
     "shell.execute_reply": "2022-11-26T13:17:30.435648Z"
    },
    "papermill": {
     "duration": 0.019002,
     "end_time": "2022-11-26T13:17:30.439199",
     "exception": false,
     "start_time": "2022-11-26T13:17:30.420197",
     "status": "completed"
    },
    "tags": []
   },
   "outputs": [
    {
     "data": {
      "application/javascript": [
       "parent.postMessage({\"jupyterEvent\": \"custom.exercise_interaction\", \"data\": {\"outcomeType\": 1, \"valueTowardsCompletion\": 0.2, \"interactionType\": 1, \"questionType\": 4, \"questionId\": \"2_MultiplyBooleans\", \"learnToolsVersion\": \"0.3.4\", \"failureMessage\": \"\", \"exceptionClass\": \"\", \"trace\": \"\"}}, \"*\")"
      ],
      "text/plain": [
       "<IPython.core.display.Javascript object>"
      ]
     },
     "metadata": {},
     "output_type": "display_data"
    },
    {
     "data": {
      "text/markdown": [
       "<span style=\"color:#33cc33\">Correct:</span> \n",
       "\n",
       "When you multiple an integer or float by a boolean with value `True`, it just returns that same integer or float (and is equivalent to multiplying by 1).  If you multiply an integer or float by a boolean with value `False`, it always returns 0.  This is true for both positive and negative numbers.  If you multiply a string by a boolean with value `True`, it just returns that same string.  And if you multiply a string by a boolean with value `False`, it returns an empty string (or a string with length zero)."
      ],
      "text/plain": [
       "Correct: \n",
       "\n",
       "When you multiple an integer or float by a boolean with value `True`, it just returns that same integer or float (and is equivalent to multiplying by 1).  If you multiply an integer or float by a boolean with value `False`, it always returns 0.  This is true for both positive and negative numbers.  If you multiply a string by a boolean with value `True`, it just returns that same string.  And if you multiply a string by a boolean with value `False`, it returns an empty string (or a string with length zero)."
      ]
     },
     "metadata": {},
     "output_type": "display_data"
    }
   ],
   "source": [
    "# Check your answer (Run this code cell to receive credit!)\n",
    "q2.check()"
   ]
  },
  {
   "cell_type": "markdown",
   "id": "0368ae72",
   "metadata": {
    "papermill": {
     "duration": 0.006529,
     "end_time": "2022-11-26T13:17:30.453323",
     "exception": false,
     "start_time": "2022-11-26T13:17:30.446794",
     "status": "completed"
    },
    "tags": []
   },
   "source": [
    "# Question 3\n",
    "\n",
    "In this question, you will build off your work from the previous exercise to write a function that estimates the value of a house.\n",
    "\n",
    "Use the next code cell to create a function `get_expected_cost` that takes as input three variables:\n",
    "- `beds` - number of bedrooms (data type float)\n",
    "- `baths` - number of bathrooms (data type float)\n",
    "- `has_basement` - whether or not the house has a basement (data type boolean)\n",
    "\n",
    "It should return the expected cost of a house with those characteristics. Assume that:\n",
    "- the expected cost for a house with 0 bedrooms and 0 bathrooms, and no basement is 80000, \n",
    "- each bedroom adds 30000 to the expected cost,\n",
    "- each bathroom adds 10000 to the expected cost, and\n",
    "- a basement adds 40000 to the expected cost.\n",
    "\n",
    "For instance,\n",
    "- a house with 1 bedroom, 1 bathroom, and no basement has an expected cost of 80000 + 30000 + 10000 = 120000.  This value will be calculated with `get_expected_cost(1, 1, False)`.\n",
    "- a house with 2 bedrooms, 1 bathroom, and a basement has an expected cost of 80000 + 2*30000 + 10000 + 40000 = 190000.  This value will be calculated with `get_expected_cost(2, 1, True)`.\n",
    "\n",
    "Remember you can always get a hint by uncommenting `q3.hint()` in the code cell following the next!"
   ]
  },
  {
   "cell_type": "code",
   "execution_count": 7,
   "id": "cdb3fbdb",
   "metadata": {
    "execution": {
     "iopub.execute_input": "2022-11-26T13:17:30.468255Z",
     "iopub.status.busy": "2022-11-26T13:17:30.467939Z",
     "iopub.status.idle": "2022-11-26T13:17:30.477318Z",
     "shell.execute_reply": "2022-11-26T13:17:30.476252Z"
    },
    "papermill": {
     "duration": 0.019257,
     "end_time": "2022-11-26T13:17:30.479326",
     "exception": false,
     "start_time": "2022-11-26T13:17:30.460069",
     "status": "completed"
    },
    "tags": []
   },
   "outputs": [
    {
     "data": {
      "application/javascript": [
       "parent.postMessage({\"jupyterEvent\": \"custom.exercise_interaction\", \"data\": {\"outcomeType\": 1, \"valueTowardsCompletion\": 0.2, \"interactionType\": 1, \"questionType\": 2, \"questionId\": \"3_EstimateHouseValueBool\", \"learnToolsVersion\": \"0.3.4\", \"failureMessage\": \"\", \"exceptionClass\": \"\", \"trace\": \"\"}}, \"*\")"
      ],
      "text/plain": [
       "<IPython.core.display.Javascript object>"
      ]
     },
     "metadata": {},
     "output_type": "display_data"
    },
    {
     "data": {
      "text/markdown": [
       "<span style=\"color:#33cc33\">Correct</span>"
      ],
      "text/plain": [
       "Correct"
      ]
     },
     "metadata": {},
     "output_type": "display_data"
    }
   ],
   "source": [
    "# TODO: Complete the function\n",
    "def get_expected_cost(beds, baths, has_basement):\n",
    "    init_cost = 80000\n",
    "    bed_cost = 30000\n",
    "    bath_cost = 10000\n",
    "    base_cost = 40000\n",
    "    value = init_cost + beds * bed_cost + baths * bath_cost + (base_cost * has_basement)\n",
    "    return value\n",
    "\n",
    "# Check your answer \n",
    "q3.check()"
   ]
  },
  {
   "cell_type": "code",
   "execution_count": 8,
   "id": "bc1bccf6",
   "metadata": {
    "execution": {
     "iopub.execute_input": "2022-11-26T13:17:30.494946Z",
     "iopub.status.busy": "2022-11-26T13:17:30.494586Z",
     "iopub.status.idle": "2022-11-26T13:17:30.499134Z",
     "shell.execute_reply": "2022-11-26T13:17:30.498003Z"
    },
    "papermill": {
     "duration": 0.015533,
     "end_time": "2022-11-26T13:17:30.501874",
     "exception": false,
     "start_time": "2022-11-26T13:17:30.486341",
     "status": "completed"
    },
    "tags": []
   },
   "outputs": [],
   "source": [
    "# Uncomment to see a hint\n",
    "#q3.hint()\n",
    "\n",
    "# Uncomment to view the solution\n",
    "#q3.solution()"
   ]
  },
  {
   "cell_type": "markdown",
   "id": "90a5827d",
   "metadata": {
    "papermill": {
     "duration": 0.006399,
     "end_time": "2022-11-26T13:17:30.515325",
     "exception": false,
     "start_time": "2022-11-26T13:17:30.508926",
     "status": "completed"
    },
    "tags": []
   },
   "source": [
    "# Question 4\n",
    "\n",
    "We'll continue our study of boolean arithmetic.  For this question, your task is to provide a description of what happpens when you add booleans. \n",
    "\n",
    "Use the next code cell for your investigation.  Feel free to add or remove any lines of code - use it as your workspace!"
   ]
  },
  {
   "cell_type": "code",
   "execution_count": 9,
   "id": "923c5627",
   "metadata": {
    "execution": {
     "iopub.execute_input": "2022-11-26T13:17:30.529980Z",
     "iopub.status.busy": "2022-11-26T13:17:30.529630Z",
     "iopub.status.idle": "2022-11-26T13:17:30.535378Z",
     "shell.execute_reply": "2022-11-26T13:17:30.534406Z"
    },
    "papermill": {
     "duration": 0.015491,
     "end_time": "2022-11-26T13:17:30.537404",
     "exception": false,
     "start_time": "2022-11-26T13:17:30.521913",
     "status": "completed"
    },
    "tags": []
   },
   "outputs": [
    {
     "name": "stdout",
     "output_type": "stream",
     "text": [
      "0\n",
      "1\n",
      "1\n",
      "2\n",
      "3\n"
     ]
    }
   ],
   "source": [
    "print(False + False)\n",
    "print(True + False)\n",
    "print(False + True)\n",
    "print(True + True)\n",
    "print(False + True + True + True)"
   ]
  },
  {
   "cell_type": "markdown",
   "id": "8ce1dfa9",
   "metadata": {
    "papermill": {
     "duration": 0.006364,
     "end_time": "2022-11-26T13:17:30.550531",
     "exception": false,
     "start_time": "2022-11-26T13:17:30.544167",
     "status": "completed"
    },
    "tags": []
   },
   "source": [
    "Once you have an answer, run the code cell below to see the solution.  Viewing the solution will give you credit for answering the problem."
   ]
  },
  {
   "cell_type": "code",
   "execution_count": 10,
   "id": "2dd1c792",
   "metadata": {
    "execution": {
     "iopub.execute_input": "2022-11-26T13:17:30.565253Z",
     "iopub.status.busy": "2022-11-26T13:17:30.564939Z",
     "iopub.status.idle": "2022-11-26T13:17:30.573886Z",
     "shell.execute_reply": "2022-11-26T13:17:30.572718Z"
    },
    "papermill": {
     "duration": 0.018677,
     "end_time": "2022-11-26T13:17:30.575750",
     "exception": false,
     "start_time": "2022-11-26T13:17:30.557073",
     "status": "completed"
    },
    "tags": []
   },
   "outputs": [
    {
     "data": {
      "application/javascript": [
       "parent.postMessage({\"jupyterEvent\": \"custom.exercise_interaction\", \"data\": {\"outcomeType\": 1, \"valueTowardsCompletion\": 0.2, \"interactionType\": 1, \"questionType\": 4, \"questionId\": \"4_AddingBooleans\", \"learnToolsVersion\": \"0.3.4\", \"failureMessage\": \"\", \"exceptionClass\": \"\", \"trace\": \"\"}}, \"*\")"
      ],
      "text/plain": [
       "<IPython.core.display.Javascript object>"
      ]
     },
     "metadata": {},
     "output_type": "display_data"
    },
    {
     "data": {
      "text/markdown": [
       "<span style=\"color:#33cc33\">Correct:</span> \n",
       "\n",
       "When you add booleans, adding `False` is equivalent to adding 0, and adding `True` is equivalent to adding 1."
      ],
      "text/plain": [
       "Correct: \n",
       "\n",
       "When you add booleans, adding `False` is equivalent to adding 0, and adding `True` is equivalent to adding 1."
      ]
     },
     "metadata": {},
     "output_type": "display_data"
    }
   ],
   "source": [
    "# Check your answer (Run this code cell to receive credit!)\n",
    "q4.check()"
   ]
  },
  {
   "cell_type": "markdown",
   "id": "33aa3b5c",
   "metadata": {
    "papermill": {
     "duration": 0.006459,
     "end_time": "2022-11-26T13:17:30.589115",
     "exception": false,
     "start_time": "2022-11-26T13:17:30.582656",
     "status": "completed"
    },
    "tags": []
   },
   "source": [
    "# 🌶️ Question 5\n",
    "\n",
    "You own an online shop where you sell rings with custom engravings.  You offer both gold plated and solid gold rings.\n",
    "- Gold plated rings have a base cost of \\\\$50, and you charge \\\\$7 per engraved unit.  \n",
    "- Solid gold rings have a base cost of \\\\$100, and you charge \\\\$10 per engraved unit.\n",
    "- Spaces and punctuation are counted as engraved units.\n",
    "\n",
    "Write a function `cost_of_project()` that takes two arguments:\n",
    "- `engraving` - a Python string with the text of the engraving\n",
    "- `solid_gold` - a Boolean that indicates whether the ring is solid gold\n",
    "\n",
    "It should return the cost of the project.  This question should be fairly challenging, and you may need a hint."
   ]
  },
  {
   "cell_type": "code",
   "execution_count": 11,
   "id": "2a407485",
   "metadata": {
    "execution": {
     "iopub.execute_input": "2022-11-26T13:17:30.604131Z",
     "iopub.status.busy": "2022-11-26T13:17:30.603806Z",
     "iopub.status.idle": "2022-11-26T13:17:30.608909Z",
     "shell.execute_reply": "2022-11-26T13:17:30.607359Z"
    },
    "papermill": {
     "duration": 0.01519,
     "end_time": "2022-11-26T13:17:30.610982",
     "exception": false,
     "start_time": "2022-11-26T13:17:30.595792",
     "status": "completed"
    },
    "tags": []
   },
   "outputs": [
    {
     "name": "stdout",
     "output_type": "stream",
     "text": [
      "10\n"
     ]
    }
   ],
   "source": [
    "engraving='08/10/2000'\n",
    "print(len(engraving))"
   ]
  },
  {
   "cell_type": "code",
   "execution_count": 12,
   "id": "fe59f5d7",
   "metadata": {
    "execution": {
     "iopub.execute_input": "2022-11-26T13:17:30.627371Z",
     "iopub.status.busy": "2022-11-26T13:17:30.627004Z",
     "iopub.status.idle": "2022-11-26T13:17:30.636672Z",
     "shell.execute_reply": "2022-11-26T13:17:30.635373Z"
    },
    "papermill": {
     "duration": 0.019717,
     "end_time": "2022-11-26T13:17:30.638608",
     "exception": false,
     "start_time": "2022-11-26T13:17:30.618891",
     "status": "completed"
    },
    "tags": []
   },
   "outputs": [
    {
     "data": {
      "application/javascript": [
       "parent.postMessage({\"jupyterEvent\": \"custom.exercise_interaction\", \"data\": {\"outcomeType\": 1, \"valueTowardsCompletion\": 0.2, \"interactionType\": 1, \"questionType\": 2, \"questionId\": \"5_CustomEngravings\", \"learnToolsVersion\": \"0.3.4\", \"failureMessage\": \"\", \"exceptionClass\": \"\", \"trace\": \"\"}}, \"*\")"
      ],
      "text/plain": [
       "<IPython.core.display.Javascript object>"
      ]
     },
     "metadata": {},
     "output_type": "display_data"
    },
    {
     "data": {
      "text/markdown": [
       "<span style=\"color:#33cc33\">Correct</span>"
      ],
      "text/plain": [
       "Correct"
      ]
     },
     "metadata": {},
     "output_type": "display_data"
    }
   ],
   "source": [
    "def cost_of_project(engraving, solid_gold):\n",
    "    length = len(engraving)\n",
    "    \n",
    "    cost =  solid_gold *( 10 * length +100 ) +  (not solid_gold) * ( 7 * length+50)\n",
    "    return cost\n",
    "\n",
    "# Check your answer\n",
    "q5.check()"
   ]
  },
  {
   "cell_type": "code",
   "execution_count": 13,
   "id": "f9d88530",
   "metadata": {
    "execution": {
     "iopub.execute_input": "2022-11-26T13:17:30.654755Z",
     "iopub.status.busy": "2022-11-26T13:17:30.654275Z",
     "iopub.status.idle": "2022-11-26T13:17:30.665719Z",
     "shell.execute_reply": "2022-11-26T13:17:30.664297Z"
    },
    "papermill": {
     "duration": 0.021744,
     "end_time": "2022-11-26T13:17:30.667523",
     "exception": false,
     "start_time": "2022-11-26T13:17:30.645779",
     "status": "completed"
    },
    "tags": []
   },
   "outputs": [
    {
     "data": {
      "application/javascript": [
       "parent.postMessage({\"jupyterEvent\": \"custom.exercise_interaction\", \"data\": {\"interactionType\": 2, \"questionType\": 2, \"questionId\": \"5_CustomEngravings\", \"learnToolsVersion\": \"0.3.4\", \"valueTowardsCompletion\": 0.0, \"failureMessage\": \"\", \"exceptionClass\": \"\", \"trace\": \"\", \"outcomeType\": 4}}, \"*\")"
      ],
      "text/plain": [
       "<IPython.core.display.Javascript object>"
      ]
     },
     "metadata": {},
     "output_type": "display_data"
    },
    {
     "data": {
      "text/markdown": [
       "<span style=\"color:#3366cc\">Hint:</span> There are two options - either the project uses solid gold or does not.  With this in mind, you can structure your solution like this: `cost = solid_gold * ____ + (not_solid_gold) * ____`.  You need to figure out how to fill in the blanks. Also, remember that:\n",
       "- If `solid_gold = True`, then `(not solid_gold) = False`, and if `solid_gold = False`, then `(not solid_gold) = True`.\n",
       "- Multiplying an integer by `True` is equivalent to multiplying it by 1, and multiplying an integer by `False` is equivalent to multiplying it by 0."
      ],
      "text/plain": [
       "Hint: There are two options - either the project uses solid gold or does not.  With this in mind, you can structure your solution like this: `cost = solid_gold * ____ + (not_solid_gold) * ____`.  You need to figure out how to fill in the blanks. Also, remember that:\n",
       "- If `solid_gold = True`, then `(not solid_gold) = False`, and if `solid_gold = False`, then `(not solid_gold) = True`.\n",
       "- Multiplying an integer by `True` is equivalent to multiplying it by 1, and multiplying an integer by `False` is equivalent to multiplying it by 0."
      ]
     },
     "metadata": {},
     "output_type": "display_data"
    },
    {
     "data": {
      "application/javascript": [
       "parent.postMessage({\"jupyterEvent\": \"custom.exercise_interaction\", \"data\": {\"interactionType\": 3, \"questionType\": 2, \"questionId\": \"5_CustomEngravings\", \"learnToolsVersion\": \"0.3.4\", \"valueTowardsCompletion\": 0.0, \"failureMessage\": \"\", \"exceptionClass\": \"\", \"trace\": \"\", \"outcomeType\": 4}}, \"*\")"
      ],
      "text/plain": [
       "<IPython.core.display.Javascript object>"
      ]
     },
     "metadata": {},
     "output_type": "display_data"
    },
    {
     "data": {
      "text/markdown": [
       "<span style=\"color:#33cc99\">Solution:</span> \n",
       "```python\n",
       "def cost_of_project(engraving, solid_gold):\n",
       "    cost = solid_gold * (100 + 10 * len(engraving)) + (not solid_gold) * (50 + 7 * len(engraving))\n",
       "    return cost\n",
       "\n",
       "```"
      ],
      "text/plain": [
       "Solution: \n",
       "```python\n",
       "def cost_of_project(engraving, solid_gold):\n",
       "    cost = solid_gold * (100 + 10 * len(engraving)) + (not solid_gold) * (50 + 7 * len(engraving))\n",
       "    return cost\n",
       "\n",
       "```"
      ]
     },
     "metadata": {},
     "output_type": "display_data"
    }
   ],
   "source": [
    "# Uncomment to see a hint\n",
    "q5.hint()\n",
    "\n",
    "# Uncomment to view the solution\n",
    "q5.solution()"
   ]
  },
  {
   "cell_type": "markdown",
   "id": "092fa10c",
   "metadata": {
    "papermill": {
     "duration": 0.007253,
     "end_time": "2022-11-26T13:17:30.682337",
     "exception": false,
     "start_time": "2022-11-26T13:17:30.675084",
     "status": "completed"
    },
    "tags": []
   },
   "source": [
    "Run the next code cell to calculate the cost of engraving `Charlie+Denver` on a solid gold ring."
   ]
  },
  {
   "cell_type": "code",
   "execution_count": 14,
   "id": "ba38a53b",
   "metadata": {
    "execution": {
     "iopub.execute_input": "2022-11-26T13:17:30.699293Z",
     "iopub.status.busy": "2022-11-26T13:17:30.698825Z",
     "iopub.status.idle": "2022-11-26T13:17:30.705018Z",
     "shell.execute_reply": "2022-11-26T13:17:30.703982Z"
    },
    "papermill": {
     "duration": 0.017134,
     "end_time": "2022-11-26T13:17:30.706881",
     "exception": false,
     "start_time": "2022-11-26T13:17:30.689747",
     "status": "completed"
    },
    "tags": []
   },
   "outputs": [
    {
     "name": "stdout",
     "output_type": "stream",
     "text": [
      "240\n"
     ]
    }
   ],
   "source": [
    "project_one = cost_of_project(\"Charlie+Denver\", True)\n",
    "print(project_one)"
   ]
  },
  {
   "cell_type": "markdown",
   "id": "66415d01",
   "metadata": {
    "papermill": {
     "duration": 0.007457,
     "end_time": "2022-11-26T13:17:30.722071",
     "exception": false,
     "start_time": "2022-11-26T13:17:30.714614",
     "status": "completed"
    },
    "tags": []
   },
   "source": [
    "Use the next code cell to calculate the cost of engraving `08/10/2000` on a gold plated ring."
   ]
  },
  {
   "cell_type": "code",
   "execution_count": 15,
   "id": "a82a4341",
   "metadata": {
    "execution": {
     "iopub.execute_input": "2022-11-26T13:17:30.739366Z",
     "iopub.status.busy": "2022-11-26T13:17:30.739039Z",
     "iopub.status.idle": "2022-11-26T13:17:30.744697Z",
     "shell.execute_reply": "2022-11-26T13:17:30.743585Z"
    },
    "papermill": {
     "duration": 0.017596,
     "end_time": "2022-11-26T13:17:30.747410",
     "exception": false,
     "start_time": "2022-11-26T13:17:30.729814",
     "status": "completed"
    },
    "tags": []
   },
   "outputs": [
    {
     "name": "stdout",
     "output_type": "stream",
     "text": [
      "120\n"
     ]
    }
   ],
   "source": [
    "project_two = cost_of_project(\"08/10/2000\", False)\n",
    "print(project_two)"
   ]
  },
  {
   "cell_type": "markdown",
   "id": "1461144e",
   "metadata": {
    "papermill": {
     "duration": 0.007812,
     "end_time": "2022-11-26T13:17:30.763371",
     "exception": false,
     "start_time": "2022-11-26T13:17:30.755559",
     "status": "completed"
    },
    "tags": []
   },
   "source": [
    "# Keep going\n",
    "\n",
    "Continue to the next lesson to **[learn about conditions and conditional statements](https://www.kaggle.com/alexisbcook/conditions-and-conditional-statements)**."
   ]
  },
  {
   "cell_type": "markdown",
   "id": "585022ac",
   "metadata": {
    "papermill": {
     "duration": 0.007563,
     "end_time": "2022-11-26T13:17:30.778842",
     "exception": false,
     "start_time": "2022-11-26T13:17:30.771279",
     "status": "completed"
    },
    "tags": []
   },
   "source": [
    "---\n",
    "\n",
    "\n",
    "\n",
    "\n",
    "*Have questions or comments? Visit the [course discussion forum](https://www.kaggle.com/learn/intro-to-programming/discussion) to chat with other learners.*"
   ]
  }
 ],
 "metadata": {
  "kernelspec": {
   "display_name": "Python 3",
   "language": "python",
   "name": "python3"
  },
  "language_info": {
   "codemirror_mode": {
    "name": "ipython",
    "version": 3
   },
   "file_extension": ".py",
   "mimetype": "text/x-python",
   "name": "python",
   "nbconvert_exporter": "python",
   "pygments_lexer": "ipython3",
   "version": "3.7.12"
  },
  "papermill": {
   "default_parameters": {},
   "duration": 10.613634,
   "end_time": "2022-11-26T13:17:31.407210",
   "environment_variables": {},
   "exception": null,
   "input_path": "__notebook__.ipynb",
   "output_path": "__notebook__.ipynb",
   "parameters": {},
   "start_time": "2022-11-26T13:17:20.793576",
   "version": "2.3.4"
  }
 },
 "nbformat": 4,
 "nbformat_minor": 5
}
